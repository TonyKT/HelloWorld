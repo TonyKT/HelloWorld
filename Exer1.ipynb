{
 "cells": [
  {
   "cell_type": "markdown",
   "metadata": {},
   "source": [
    "# This is number 1 title\n",
    "## This is number 2 title\n",
    "### This is number 3 title"
   ]
  },
  {
   "cell_type": "code",
   "execution_count": 13,
   "metadata": {
    "scrolled": true
   },
   "outputs": [
    {
     "name": "stdout",
     "output_type": "stream",
     "text": [
      "Hello, world!\n"
     ]
    }
   ],
   "source": [
    "print(\"Hello, world!\")"
   ]
  },
  {
   "cell_type": "code",
   "execution_count": 14,
   "metadata": {},
   "outputs": [
    {
     "name": "stdout",
     "output_type": "stream",
     "text": [
      "Hello, Tony\n"
     ]
    }
   ],
   "source": [
    "print(\"Hello, Tony\")"
   ]
  },
  {
   "cell_type": "code",
   "execution_count": 15,
   "metadata": {},
   "outputs": [
    {
     "name": "stdout",
     "output_type": "stream",
     "text": [
      "Output: 0\n",
      "Output: 1\n",
      "Output: 2\n",
      "Output: 3\n",
      "Output: 4\n",
      "Output: 5\n",
      "Output: 6\n",
      "Output: 7\n",
      "Output: 8\n",
      "Output: 9\n",
      "Output: 10\n",
      "Output: 11\n",
      "Output: 12\n",
      "Output: 13\n",
      "Output: 14\n",
      "Output: 15\n",
      "Output: 16\n",
      "Output: 17\n",
      "Output: 18\n",
      "Output: 19\n"
     ]
    }
   ],
   "source": [
    "for i in range(20):\n",
    "    print('Output: %d'% i)"
   ]
  },
  {
   "cell_type": "markdown",
   "metadata": {},
   "source": [
    "> I'm reference!\n",
    "\n",
    "[I'm hyperling. Click me to enter Bing](http://www.bing.com/)\n",
    "\n",
    "![I'm an image](http://n.sinaimg.cn/translate/20171020/sWpz-fymzzpv7459564.jpg)"
   ]
  },
  {
   "cell_type": "markdown",
   "metadata": {},
   "source": [
    "$ E = MC^2$"
   ]
  },
  {
   "cell_type": "markdown",
   "metadata": {},
   "source": [
    "$y = ax_0+bx_1+c$"
   ]
  },
  {
   "cell_type": "markdown",
   "metadata": {},
   "source": [
    "$$y = ax_0+bx_1+c$$"
   ]
  },
  {
   "cell_type": "markdown",
   "metadata": {},
   "source": [
    "$$ x = \\frac{-b\\pm \\sqrt{b^2-4ac}}{2a}$$"
   ]
  }
 ],
 "metadata": {
  "kernelspec": {
   "display_name": "Python 3",
   "language": "python",
   "name": "python3"
  },
  "language_info": {
   "codemirror_mode": {
    "name": "ipython",
    "version": 3
   },
   "file_extension": ".py",
   "mimetype": "text/x-python",
   "name": "python",
   "nbconvert_exporter": "python",
   "pygments_lexer": "ipython3",
   "version": "3.7.4"
  }
 },
 "nbformat": 4,
 "nbformat_minor": 2
}
